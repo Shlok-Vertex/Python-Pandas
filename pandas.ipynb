{
 "cells": [
  {
   "cell_type": "markdown",
   "id": "bc6ad35d",
   "metadata": {},
   "source": [
    "# Pandas Basic to Advance"
   ]
  },
  {
   "cell_type": "markdown",
   "id": "87138650",
   "metadata": {},
   "source": [
    "# Series in Pandas"
   ]
  },
  {
   "cell_type": "code",
   "execution_count": null,
   "id": "0b446641",
   "metadata": {},
   "outputs": [
    {
     "name": "stdout",
     "output_type": "stream",
     "text": [
      "a    1\n",
      "b    2\n",
      "c    3\n",
      "d    4\n",
      "e    5\n",
      "Name: numbers, dtype: int64\n",
      "<class 'pandas.core.series.Series'>\n"
     ]
    }
   ],
   "source": [
    "import pandas as pd\n",
    "\n",
    "# Series in pandas using list\n",
    "# Series - It is defined as a one-dimensional array capable of holding any data type.\n",
    "# It is similar to a column in a table.\n",
    "\n",
    "x = [1, 2, 3, 4, 5]\n",
    "\n",
    "var = pd.Series(x,index=['a', 'b', 'c', 'd', 'e'], name='numbers')\n",
    "print(var)\n",
    "print(type(var))"
   ]
  },
  {
   "cell_type": "code",
   "execution_count": 6,
   "id": "402aa4c8",
   "metadata": {},
   "outputs": [
    {
     "name": "stdout",
     "output_type": "stream",
     "text": [
      "a    1\n",
      "b    2\n",
      "c    3\n",
      "d    4\n",
      "e    5\n",
      "Name: numbers, dtype: int64\n",
      "<class 'pandas.core.series.Series'>\n"
     ]
    }
   ],
   "source": [
    "# import pandas as pd\n",
    "\n",
    "# Series in pandas using dictionary\n",
    "x = {\n",
    "    'a': 1, \n",
    "    'b': 2, \n",
    "    'c': 3, \n",
    "    'd': 4, \n",
    "    'e': 5\n",
    "}\n",
    "\n",
    "var = pd.Series(x, name='numbers')\n",
    "print(var)\n",
    "print(type(var))"
   ]
  },
  {
   "cell_type": "markdown",
   "id": "24f90463",
   "metadata": {},
   "source": [
    "# DataFrame in Pandas"
   ]
  },
  {
   "cell_type": "code",
   "execution_count": null,
   "id": "794cf672",
   "metadata": {},
   "outputs": [
    {
     "name": "stdout",
     "output_type": "stream",
     "text": [
      "   numbers\n",
      "a        1\n",
      "b        2\n",
      "c        3\n",
      "d        4\n",
      "e        5\n",
      "<class 'pandas.core.frame.DataFrame'>\n"
     ]
    }
   ],
   "source": [
    "import pandas as pd\n",
    "\n",
    "# using list\n",
    "\n",
    "x = [1, 2, 3, 4, 5]\n",
    "\n",
    "var = pd.DataFrame(x, columns=['numbers'], index=['a', 'b', 'c', 'd', 'e'])\n",
    "print(var)\n",
    "print(type(var))"
   ]
  }
 ],
 "metadata": {
  "kernelspec": {
   "display_name": "Python 3",
   "language": "python",
   "name": "python3"
  },
  "language_info": {
   "codemirror_mode": {
    "name": "ipython",
    "version": 3
   },
   "file_extension": ".py",
   "mimetype": "text/x-python",
   "name": "python",
   "nbconvert_exporter": "python",
   "pygments_lexer": "ipython3",
   "version": "3.13.5"
  }
 },
 "nbformat": 4,
 "nbformat_minor": 5
}
