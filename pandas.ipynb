{
 "cells": [
  {
   "cell_type": "markdown",
   "id": "bc6ad35d",
   "metadata": {},
   "source": [
    "# Pandas Basic to Advance"
   ]
  },
  {
   "cell_type": "code",
   "execution_count": 1,
   "id": "203c78c3",
   "metadata": {},
   "outputs": [
    {
     "name": "stdout",
     "output_type": "stream",
     "text": [
      "   numbers\n",
      "a        1\n",
      "b        2\n",
      "c        3\n",
      "d        4\n",
      "e        5\n"
     ]
    }
   ],
   "source": [
    "import pandas as pd\n",
    "\n",
    "l = [1,2,3,4,5]\n",
    "\n",
    "var = pd.DataFrame(l,index=['a','b','c','d','e'],columns=['numbers'])\n",
    "print(var)"
   ]
  }
 ],
 "metadata": {
  "kernelspec": {
   "display_name": "Python 3",
   "language": "python",
   "name": "python3"
  },
  "language_info": {
   "codemirror_mode": {
    "name": "ipython",
    "version": 3
   },
   "file_extension": ".py",
   "mimetype": "text/x-python",
   "name": "python",
   "nbconvert_exporter": "python",
   "pygments_lexer": "ipython3",
   "version": "3.13.5"
  }
 },
 "nbformat": 4,
 "nbformat_minor": 5
}
